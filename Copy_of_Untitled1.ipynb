{
  "nbformat": 4,
  "nbformat_minor": 0,
  "metadata": {
    "colab": {
      "provenance": []
    },
    "kernelspec": {
      "name": "python3",
      "display_name": "Python 3"
    },
    "language_info": {
      "name": "python"
    }
  },
  "cells": [
    {
      "cell_type": "markdown",
      "source": [
        "1.  Explain the purpose and advantages of NumPy in scientific computing and data analysis. How does it enhance Python's capabilities for numerical operations?\n",
        "\n",
        "NumPy (Numerical Python) is a powerful library in Python designed for numerical computing and data analysis. It provides support for handling large multi-dimensional arrays and matrices, along with a collection of mathematical functions to operate on these data structures efficiently.\n",
        "\n",
        "Key Purposes of NumPy:\n",
        "\n",
        "Efficient Array Operations: NumPy offers highly optimized operations on arrays and matrices, which are much faster than Python’s built-in data structures like lists.\n",
        "\n",
        "Scientific and Mathematical Functions: It provides a wide range of mathematical functions, such as linear algebra, statistical analysis, Fourier transforms, and random number generation.\n",
        "\n",
        "Data Storage and Manipulation: NumPy allows for efficient storage, manipulation, and retrieval of large datasets, making it essential in data science and machine learning.\n",
        "\n",
        "Bridge to Lower-Level Libraries: It acts as an interface for lower-level languages like C, C++, and Fortran, enabling faster computations.\n",
        "\n",
        "Foundation for Other Libraries: Many popular libraries like Pandas, SciPy, and Scikit-learn are built on top of NumPy.\n",
        "\n",
        "Advantages of NumPy:\n",
        "\n",
        "Performance and Speed:\n",
        "\n",
        "NumPy arrays use contiguous blocks of memory and are more compact than Python lists.\n",
        "\n",
        "Operations are vectorized, avoiding the need for explicit loops, which leads to faster computations.\n",
        "\n",
        "Ease of Use:\n",
        "\n",
        "Simple syntax and functions for complex mathematical operations.\n",
        "Supports broadcasting, allowing operations on arrays of different shapes.\n",
        "\n",
        "Memory Efficiency:\n",
        "\n",
        "Consumes less memory compared to traditional Python data structures.\n",
        "Provides the dtype feature to define the data type of elements, optimizing memory usage.\n",
        "\n",
        "Interoperability:\n",
        "\n",
        "Can easily integrate with data from other sources like text files, CSVs, and databases.\n",
        "\n",
        "Interoperates with other Python libraries and external tools for scientific computing.\n",
        "\n",
        "Extensive Functionality:\n",
        "\n",
        "Supports slicing, indexing, and matrix manipulations.\n",
        "Provides tools for reshaping, transposing, and aggregating data efficiently.\n",
        "\n",
        "Error Handling and Debugging:\n",
        "\n",
        "Provides better error messages and warnings related to array operations, making debugging easier.\n",
        "\n",
        "How NumPy Enhances Python’s Capabilities:\n",
        "\n",
        "Vectorization: NumPy replaces slow Python loops with fast array operations.\n",
        "\n",
        "Element-wise Operations: Supports element-wise addition, subtraction,\n",
        "multiplication, and division.\n",
        "\n",
        "Advanced Indexing and Slicing: Enables sophisticated indexing techniques for accessing and manipulating data.\n",
        "\n",
        "Mathematical Functions: Includes an extensive library of functions for statistical analysis, random sampling, and complex mathematical computations.\n",
        "\n",
        "Broadcasting: Allows operations on arrays with different shapes, reducing the need for explicit iteration.\n",
        "\n",
        "Example Comparison:\n",
        "\n",
        "Python List vs. NumPy Array for Element-wise Addition:\n",
        "\n",
        "# Using Python lists\n",
        "\n",
        "a = [1, 2, 3, 4]\n",
        "\n",
        "b = [5, 6, 7, 8]\n",
        "\n",
        "result = [x + y for x, y in zip(a, b)]\n",
        "\n",
        "print(result)  # Output: [6, 8, 10, 12]\n",
        "\n",
        "# Using NumPy arrays\n",
        "\n",
        "import numpy as np\n",
        "\n",
        "a = np.array([1, 2, 3, 4])\n",
        "\n",
        "b = np.array([5, 6, 7, 8])\n",
        "\n",
        "result = a + b\n",
        "\n",
        "print(result)  # Output: [ 6  8 10 12]\n",
        "\n",
        "\n",
        "\n",
        "\n"
      ],
      "metadata": {
        "id": "B7S-3-aEq-3x"
      }
    },
    {
      "cell_type": "markdown",
      "source": [
        "2. Compare and contrast np.mean() and np.average() functions in NumPy. When would you use one over the other?\n",
        "\n",
        ". np.mean()\n",
        "\n",
        "Purpose: Calculates the arithmetic mean (average) of the elements in an array.\n",
        "\n",
        "Syntax: np.mean(a, axis=None, dtype=None, out=None, keepdims=False)\n",
        "\n",
        "Key Features:\n",
        "\n",
        "Arithmetic Mean: Computes the sum of elements divided by the number of elements.\n",
        "\n",
        "Axis Support: Can compute the mean along a specified axis.\n",
        "\n",
        "No Weights: Does not support weighted averages.\n",
        "\n",
        "Simplicity: Focuses solely on the arithmetic mean.\n",
        "\n",
        "import numpy as np\n",
        "\n",
        "arr = np.array([1, 2, 3, 4, 5])\n",
        "\n",
        "mean_val = np.mean(arr)\n",
        "\n",
        "print(mean_val)  # Output: 3.0\n",
        "\n",
        "np.average()\n",
        "\n",
        "Purpose: Computes the weighted average of the elements in an array.\n",
        "\n",
        "Syntax: np.average(a, axis=None, weights=None, returned=False)\n",
        "\n",
        "Key Features:\n",
        "\n",
        "Weighted Average: Allows calculation using weights to assign different\n",
        "importance to elements.\n",
        "\n",
        "Axis Support: Can compute the average along a specified axis.\n",
        "\n",
        "Weights Parameter: Takes a weights argument to compute the weighted mean.\n",
        "\n",
        "Return of Sum of Weights: Can return the sum of the weights if returned=True.\n",
        "\n",
        "Example (With Weights):\n",
        "\n",
        "arr = np.array([1, 2, 3, 4, 5])\n",
        "\n",
        "weights = np.array([1, 1, 2, 2, 3])  # Heavier weight on larger numbers\n",
        "\n",
        "weighted_avg = np.average(arr, weights=weights)\n",
        "\n",
        "print(weighted_avg)  # Output: 3.666...\n",
        "\n",
        "When to Use One Over the Other:\n",
        "\n",
        "Use np.mean() when:\n",
        "\n",
        "You want the simple arithmetic mean.\n",
        "\n",
        "No weights are involved in your calculation.\n",
        "\n",
        "You need simplicity and fast performance.\n",
        "\n",
        "Use np.average() when:\n",
        "\n",
        "You need to compute a weighted average.\n",
        "\n",
        "Different elements contribute differently to the final average.\n",
        "\n",
        "You want to retrieve both the average and the sum of weights.\n",
        "\n",
        "\n"
      ],
      "metadata": {
        "id": "Lr4DSRM7rtQ3"
      }
    },
    {
      "cell_type": "markdown",
      "source": [
        "4. How can you determine the data type of elements in a NumPy array? Discuss the importance of data types in memory management and performance.\n",
        "\n",
        "Determining the Data Type of Elements in a NumPy Array\n",
        "\n",
        "In NumPy, every array has a fixed data type (dtype) that determines the type of elements it can hold. You can determine the data type of elements using various attributes and functions.\n",
        "\n",
        "Methods to Check Data Type:\n",
        "Using dtype Attribute: The dtype attribute of a NumPy array provides the data type of its elements.\n",
        "\n",
        "import numpy as np\n",
        "\n",
        "arr = np.array([1, 2, 3])\n",
        "\n",
        "print(arr.dtype)  # Output: int64 (or int32 depending on the system)\n",
        "\n",
        "Using type() Function: This can be used to check the overall type of the object.\n",
        "\n",
        "Using np.result_type(): Determines the resulting data type when performing operations on arrays.\n",
        "\n",
        "dtype_result = np.result_type(arr, 2.5)\n",
        "\n",
        "print(dtype_result)  # Output: float64 (because of mixing int and float)\n",
        "\n",
        "Using arr.astype() for Conversion and Verification: Convert the array to a different data type and verify the type.\n",
        "\n",
        "\n",
        "float_arr = arr.astype(float)\n",
        "print(float_arr.dtype)  # Output: float64\n",
        "\n",
        "Importance of Data Types in Memory Management and Performance\n",
        "\n",
        "Memory Efficiency:\n",
        "\n",
        "Compact Storage: NumPy arrays store data in contiguous memory blocks, making them more memory-efficient than Python lists.\n",
        "\n",
        "Fixed Size: The dtype determines the size of each element (e.g., int32 uses 4 bytes, float64 uses 8 bytes).\n",
        "\n",
        "Example:\n",
        "\n",
        "arr_int = np.array([1, 2, 3], dtype=np.int32)\n",
        "\n",
        "arr_float = np.array([1, 2, 3], dtype=np.float64)\n",
        "\n",
        "print(arr_int.nbytes)  # Output: 12 (3 elements * 4 bytes)\n",
        "\n",
        "print(arr_float.nbytes)  # Output: 24 (3 elements * 8 bytes)\n",
        "\n",
        "Performance Optimization:\n",
        "\n",
        "Faster Operations: Operations on NumPy arrays are vectorized, and the use of low-level implementations in C/C++ ensures faster computations.\n",
        "\n",
        "Avoiding Type Conversion Overhead: Explicitly specifying the data type avoids automatic type conversions, which can slow down computations.\n",
        "\n",
        "Example:\n",
        "\n",
        "large_arr = np.arange(1_000_000, dtype=np.int32)  # Faster due to smaller data size\n",
        "\n",
        "large_arr_float = np.arange(1_000_000, dtype=np.float64)\n",
        "Numerical Precision and Accuracy:\n",
        "\n",
        "Choosing an appropriate data type ensures precision in scientific computing.\n",
        "\n",
        "Example: Using float32 instead of float64 may save memory but could lead to loss of precision in calculations.\n",
        "Cross-Platform Compatibility:\n",
        "\n",
        "Fixed-size data types ensure consistency across different platforms, avoiding issues with platform-specific integer or float sizes.\n",
        "\n"
      ],
      "metadata": {
        "id": "pAr7dGfqhVs2"
      }
    },
    {
      "cell_type": "markdown",
      "source": [
        "5. Define ndarrays in NumPy and explain their key features. How do they differ from standard Python lists?\n",
        "\n",
        "An ndarray (N-dimensional array) is the core data structure in NumPy, representing a multidimensional, homogeneous array of fixed-size items. It is optimized for numerical operations and provides a more efficient way to store and manipulate large datasets compared to Python's built-in lists.\n",
        "\n",
        "Key Features of ndarray:\n",
        "\n",
        "Homogeneous Data:\n",
        "\n",
        "All elements in an ndarray must have the same data type (dtype), ensuring consistency and efficient memory usage.\n",
        "\n",
        "Multidimensional Support:\n",
        "\n",
        "ndarray supports multiple dimensions (1D, 2D, 3D, etc.), making it suitable for complex data structures like matrices and tensors.\n",
        "\n",
        "Example:\n",
        "\n",
        "import numpy as np\n",
        "\n",
        "arr_2d = np.array([[1, 2, 3], [4, 5, 6]])\n",
        "\n",
        "print(arr_2d.shape)  # Output: (2, 3)\n",
        "\n",
        "Efficient Memory Usage:\n",
        "\n",
        "Data is stored in contiguous blocks of memory, allowing for faster access and manipulation compared to Python lists.\n",
        "\n",
        "Vectorized Operations:\n",
        "\n",
        "Supports element-wise operations without explicit loops, leveraging optimized C-based computations.\n",
        "Example:\n",
        "\n",
        "arr = np.array([1, 2, 3])\n",
        "\n",
        "result = arr * 2\n",
        "\n",
        "print(result)  # Output: [2 4 6]\n",
        "\n",
        "arr = np.array([1, 2, 3])\n",
        "\n",
        "result = arr * 2\n",
        "\n",
        "print(result)  # Output: [2 4 6]\n",
        "\n",
        "Indexing and Slicing:\n",
        "\n",
        "Offers powerful indexing and slicing capabilities similar to Python lists but extended to multiple dimensions.\n",
        "\n",
        "print(arr_2d[0, 1])  # Output: 2 (element at row 0, column 1)\n",
        "\n",
        "Broadcasting:\n",
        "\n",
        "Allows operations on arrays of different shapes without explicitly reshaping them.\n",
        "Example\n",
        "\n",
        "arr_1d = np.array([1, 2, 3])\n",
        "\n",
        "arr_2d = np.array([[1], [2], [3]])\n",
        "\n",
        "print(arr_1d + arr_2d)\n",
        "\n",
        "# Output:\n",
        "\n",
        "# [[2 3 4]\n",
        "\n",
        "#  [3 4 5]\n",
        "\n",
        "#  [4 5 6]]\n",
        "\n",
        "\n",
        "\n",
        "\n"
      ],
      "metadata": {
        "id": "gF7RRLhZkuYt"
      }
    },
    {
      "cell_type": "markdown",
      "source": [
        "6. Analyze the performance benefits of NumPy arrays over Python lists for large-scale numerical operations.\n",
        "\n",
        "Performance Benefits of NumPy Arrays Over Python Lists for Large-Scale Numerical Operations\n",
        "\n",
        "NumPy arrays (ndarray) are optimized for numerical computations and offer significant performance advantages over Python lists, particularly for large datasets. These benefits stem from differences in memory management, data storage, and the way operations are executed.\n",
        "\n",
        "Key Reasons for Performance Benefits:\n",
        "\n",
        "1. Memory Efficiency\n",
        "Contiguous Memory Allocation:\n",
        "NumPy arrays are stored in contiguous memory blocks, allowing for faster access and manipulation.\n",
        "\n",
        "Python lists are arrays of pointers, each pointing to a separate memory location, which increases memory overhead.\n",
        "Fixed Data Type:\n",
        "\n",
        "NumPy arrays are homogeneous, meaning all elements have the same data type (dtype). This reduces memory usage compared to Python lists, which can store heterogeneous data types.\n",
        "\n",
        "import numpy as np\n",
        "import sys\n",
        "\n",
        "arr = np.arange(1_000_000, dtype=np.int32)\n",
        "\n",
        "py_list = list(range(1_000_000))\n",
        "\n",
        "print(arr.nbytes)        # Output: 4000000 bytes (4 bytes per int32)\n",
        "\n",
        "print(sys.getsizeof(py_list))  # Output: much larger due to pointers\n",
        "\n",
        "2. Vectorized Operations (No Loops Required)\n",
        "\n",
        "NumPy performs element-wise operations using highly optimized C and C++ libraries under the hood.\n",
        "\n",
        "Python lists require explicit loops for similar operations, which are slower due to Python’s interpreted nature.\n",
        "\n",
        "3. Low-Level Implementation\n",
        "\n",
        "NumPy uses efficient low-level implementations in C and Fortran, avoiding the overhead of Python’s high-level abstractions.\n",
        "\n",
        "Operations are executed in compiled code, bypassing Python's slower interpreter.\n",
        "\n",
        "4. Broadcasting\n",
        "\n",
        "NumPy supports broadcasting, allowing operations on arrays of different shapes without explicit loops or reshaping.\n",
        "\n",
        "Python lists require nested loops for similar functionality, making operations slower and more memory-intensive.\n",
        "\n",
        "5. Built-in Mathematical Functions\n",
        "\n",
        "NumPy provides optimized functions for mathematical operations like np.sum(), np.mean(), etc., which are faster than equivalent manual implementations in Python lists.\n",
        "\n"
      ],
      "metadata": {
        "id": "bWYE1_QBnmhR"
      }
    },
    {
      "cell_type": "markdown",
      "source": [
        "7. Compare vstack() and hstack() functions in NumPy. Provide examples demonstrating their usage and output.\n",
        "\n",
        "1. vstack() (Vertical Stack)\n",
        "\n",
        "Purpose: Combines arrays along the vertical axis (row-wise stacking).\n",
        "\n",
        "Shape Requirement: Arrays must have the same number of columns.\n",
        "\n",
        "import numpy as np\n",
        "\n",
        "arr1 = np.array([1, 2, 3])\n",
        "\n",
        "arr2 = np.array([4, 5, 6])\n",
        "\n",
        "result = np.vstack((arr1, arr2))\n",
        "\n",
        "print(result)\n",
        "\n",
        "[[1 2 3]\n",
        " [4 5 6]]\n",
        "\n",
        "2. hstack() (Horizontal Stack)\n",
        "\n",
        "Purpose: Combines arrays along the horizontal axis (column-wise stacking).\n",
        "\n",
        "Shape Requirement: Arrays must have the same number of rows\n",
        "\n",
        "arr3 = np.array([[1], [2], [3]])\n",
        "\n",
        "arr4 = np.array([[4], [5], [6]])\n",
        "\n",
        "result = np.hstack((arr3, arr4))\n",
        "\n",
        "print(result)\n",
        "\n",
        "[[1 4]\n",
        " [2 5]\n",
        " [3 6]]\n",
        "\n",
        "\n"
      ],
      "metadata": {
        "id": "8c5sYX_MojBE"
      }
    },
    {
      "cell_type": "markdown",
      "source": [
        "8. Explain the differences between fliplr() and flipud() methods in NumPy, including their effects on various array dimensions.\n",
        "\n",
        "1. fliplr() (Flip Left to Right)\n",
        "\n",
        "Purpose: Reverses the elements in each row, flipping the array horizontally.\n",
        "Axis Affected: Operates on the last axis (columns), equivalent to reversing each row.\n",
        "\n",
        "Applicable to: 2D arrays (and higher, when viewed along the last axis).\n",
        "No Effect on: 1D arrays (raises an error if applied)\n",
        "\n",
        "import numpy as np\n",
        "\n",
        "arr_2d = np.array([[1, 2, 3],\n",
        "\n",
        "                   [4, 5, 6],\n",
        "\n",
        "                   [7, 8, 9]])\n",
        "\n",
        "result = np.fliplr(arr_2d)\n",
        "\n",
        "print(\"fliplr result:\\n\", result)\n",
        "\n",
        "fliplr result:\n",
        " [[3 2 1]\n",
        "  [6 5 4]\n",
        "  [9 8 7]]\n",
        "\n",
        "2. flipud() (Flip Up to Down)\n",
        "\n",
        "Purpose: Reverses the order of the rows, flipping the array vertically.\n",
        "Axis Affected: Operates on the first axis (rows), equivalent to reversing the rows.\n",
        "\n",
        "Applicable to: 2D arrays and higher.\n",
        "\n",
        "Effect on 1D Arrays: Reverses the entire array.\n",
        "\n",
        "result = np.flipud(arr_2d)\n",
        "\n",
        "print(\"flipud result:\\n\", result)\n",
        "\n",
        "flipud result:\n",
        " [[7 8 9]\n",
        "  [4 5 6]\n",
        "  [1 2 3]]\n",
        "\n"
      ],
      "metadata": {
        "id": "aHmvdxNypA4D"
      }
    },
    {
      "cell_type": "markdown",
      "source": [
        "9. Discuss the functionality of the array_split() method in NumPy. How does it handle uneven splits?\n",
        "\n",
        " Functionality of array_split() in NumPy\n",
        "\n",
        "array_split() is a method in NumPy that splits an array into multiple sub-arrays. It is more flexible than split() because it can handle uneven splits when the array cannot be divided evenly into the specified number of sub-arrays.\n",
        "\n",
        "Syntax:\n",
        "\n",
        "numpy.array_split(ary, indices_or_sections, axis=0)\n",
        "\n",
        "ary: The array to split.\n",
        "\n",
        "indices_or_sections: The number of sections or specific indices at which to split.\n",
        "\n",
        "axis: The axis along which to split the array (default is 0, i.e., rows).\n",
        "\n",
        "Handling Uneven Splits\n",
        "\n",
        "Unlike split(), which raises an error for uneven splits, array_split() distributes the remainder across the first few sections, making them slightly larger.\n",
        "\n",
        "Example 1: Even Split\n",
        "\n",
        "import numpy as np\n",
        "\n",
        "arr = np.array([1, 2, 3, 4, 5, 6])\n",
        "\n",
        "result = np.array_split(arr, 3)\n",
        "\n",
        "print(result)\n",
        "\n",
        "Example 2: Uneven Split\n",
        "\n",
        "arr = np.array([1, 2, 3, 4, 5])\n",
        "\n",
        "result = np.array_split(arr, 3)\n",
        "\n",
        "print(result)\n",
        "\n",
        "Example 3: Splitting Along a Different Axis (2D Array)\n",
        "\n",
        "arr_2d = np.array([[1, 2, 3], [4, 5, 6]])\n",
        "\n",
        "result = np.array_split(arr_2d, 2, axis=1)\n",
        "\n",
        "print(result)\n"
      ],
      "metadata": {
        "id": "JpGt-SITpa5a"
      }
    },
    {
      "cell_type": "markdown",
      "source": [
        "\n",
        "\n",
        "1. Vectorization\n",
        "\n",
        "Vectorization refers to the process of applying operations simultaneously on entire arrays or vectors without the need for explicit loops. NumPy achieves vectorization using optimized C-based implementations, making operations much faster compared to pure Python loops.\n",
        "\n",
        "Benefits of Vectorization\n",
        "\n",
        "Speed: Eliminates the overhead of Python loops, leading to faster execution.\n",
        "\n",
        "Conciseness: Reduces complex loop-based code to simple one-liners.\n",
        "\n",
        "Optimization: Uses low-level optimizations for numerical computations.\n",
        "\n",
        "import numpy as np\n",
        "\n",
        "arr = np.array([1, 2, 3, 4, 5])\n",
        "\n",
        "# Vectorized operation\n",
        "\n",
        "result = arr * 2\n",
        "\n",
        "print(result)\n",
        "\n",
        "2. Broadcasting\n",
        "\n",
        "Broadcasting allows NumPy to perform operations on arrays of different shapes by expanding the smaller array to match the shape of the larger array without creating new copies. This avoids memory overhead and ensures efficient computation.\n",
        "\n",
        "Rules of Broadcasting\n",
        "\n",
        "The dimensions of the arrays are compared element-wise.\n",
        "\n",
        "Arrays with a smaller dimension are \"stretched\" or \"broadcast\" to match the shape of the larger array.\n",
        "\n",
        "If dimensions are unequal but compatible (like 1 matching any size), broadcasting occurs.\n",
        "\n",
        "arr1 = np.array([[1, 2, 3], [4, 5, 6]])\n",
        "\n",
        "arr2 = np.array([1, 2, 3])\n",
        "\n",
        "result = arr1 + arr2\n",
        "\n",
        "print(result)\n",
        "\n",
        "\n",
        "\n",
        "\n"
      ],
      "metadata": {
        "id": "_gDj1j4Hp45r"
      }
    },
    {
      "cell_type": "code",
      "source": [
        "#1. Create a 3x3 NumPy array with random integers between 1 and 100. Then, interchange its rows and columns.\n",
        "\n",
        "import numpy as np\n",
        "\n",
        "# 1. Create a 3x3 array with random integers between 1 and 100 and interchange rows and columns.\n",
        "array_3x3 = np.random.randint(1, 101, (3, 3))\n",
        "transposed_array = array_3x3.T\n",
        "print(\"Original 3x3 Array:\\n\", array_3x3)\n",
        "print(\"Transposed Array:\\n\", transposed_array)\n",
        "\n"
      ],
      "metadata": {
        "colab": {
          "base_uri": "https://localhost:8080/"
        },
        "id": "0dCHJ1SxqOHV",
        "outputId": "82e4a7fd-8c9b-4a5f-faa5-057010258ff0"
      },
      "execution_count": null,
      "outputs": [
        {
          "output_type": "stream",
          "name": "stdout",
          "text": [
            "Original 3x3 Array:\n",
            " [[47 78 85]\n",
            " [22 32 55]\n",
            " [85 62 29]]\n",
            "Transposed Array:\n",
            " [[47 22 85]\n",
            " [78 32 62]\n",
            " [85 55 29]]\n"
          ]
        }
      ]
    },
    {
      "cell_type": "code",
      "source": [
        "# 2. Generate a 1D array with 10 elements and reshape it to 2x5 and 5x2.\n",
        "array_1d = np.arange(10)\n",
        "array_2x5 = array_1d.reshape(2, 5)\n",
        "array_5x2 = array_1d.reshape(5, 2)\n",
        "print(\"Original 1D Array:\\n\", array_1d)\n",
        "print(\"Reshaped to 2x5:\\n\", array_2x5)\n",
        "print(\"Reshaped to 5x2:\\n\", array_5x2)\n",
        "\n"
      ],
      "metadata": {
        "colab": {
          "base_uri": "https://localhost:8080/"
        },
        "id": "NP5xbfccqQYT",
        "outputId": "b9725e77-cb46-4763-a0b5-8b7cc9ebc3b4"
      },
      "execution_count": null,
      "outputs": [
        {
          "output_type": "stream",
          "name": "stdout",
          "text": [
            "Original 1D Array:\n",
            " [0 1 2 3 4 5 6 7 8 9]\n",
            "Reshaped to 2x5:\n",
            " [[0 1 2 3 4]\n",
            " [5 6 7 8 9]]\n",
            "Reshaped to 5x2:\n",
            " [[0 1]\n",
            " [2 3]\n",
            " [4 5]\n",
            " [6 7]\n",
            " [8 9]]\n"
          ]
        }
      ]
    },
    {
      "cell_type": "code",
      "source": [
        "# 3. Create a 4x4 array with random floats and add a zero border to make it 6x6.\n",
        "array_4x4 = np.random.rand(4, 4)\n",
        "array_6x6 = np.pad(array_4x4, pad_width=1, mode='constant', constant_values=0)\n",
        "print(\"Original 4x4 Array:\\n\", array_4x4)\n",
        "print(\"6x6 Array with Zero Border:\\n\", array_6x6)"
      ],
      "metadata": {
        "colab": {
          "base_uri": "https://localhost:8080/"
        },
        "id": "4iW5vAsgqbwa",
        "outputId": "05f0484a-9616-4573-85ea-987309e58108"
      },
      "execution_count": null,
      "outputs": [
        {
          "output_type": "stream",
          "name": "stdout",
          "text": [
            "Original 4x4 Array:\n",
            " [[0.89855397 0.04094959 0.36463625 0.2481901 ]\n",
            " [0.66579663 0.94663098 0.79904224 0.1506431 ]\n",
            " [0.38528672 0.45643471 0.7877111  0.30629718]\n",
            " [0.97802411 0.26571091 0.48179899 0.61370285]]\n",
            "6x6 Array with Zero Border:\n",
            " [[0.         0.         0.         0.         0.         0.        ]\n",
            " [0.         0.89855397 0.04094959 0.36463625 0.2481901  0.        ]\n",
            " [0.         0.66579663 0.94663098 0.79904224 0.1506431  0.        ]\n",
            " [0.         0.38528672 0.45643471 0.7877111  0.30629718 0.        ]\n",
            " [0.         0.97802411 0.26571091 0.48179899 0.61370285 0.        ]\n",
            " [0.         0.         0.         0.         0.         0.        ]]\n"
          ]
        }
      ]
    },
    {
      "cell_type": "code",
      "source": [
        "# 4. Create an array of integers from 10 to 60 with a step of 5.\n",
        "array_step = np.arange(10, 65, 5)\n",
        "print(\"Array from 10 to 60 with step of 5:\\n\", array_step)"
      ],
      "metadata": {
        "colab": {
          "base_uri": "https://localhost:8080/"
        },
        "id": "VekTMn55qgdW",
        "outputId": "b1739911-9171-4883-84d2-655cd0c892f7"
      },
      "execution_count": null,
      "outputs": [
        {
          "output_type": "stream",
          "name": "stdout",
          "text": [
            "Array from 10 to 60 with step of 5:\n",
            " [10 15 20 25 30 35 40 45 50 55 60]\n"
          ]
        }
      ]
    },
    {
      "cell_type": "code",
      "source": [
        "# 5. Create an array of strings and apply case transformations.\n",
        "array_strings = np.array(['python', 'numpy', 'pandas'])\n",
        "upper_case = np.char.upper(array_strings)\n",
        "lower_case = np.char.lower(array_strings)\n",
        "title_case = np.char.title(array_strings)\n",
        "print(\"Uppercase:\\n\", upper_case)"
      ],
      "metadata": {
        "colab": {
          "base_uri": "https://localhost:8080/"
        },
        "id": "14ZNNJYcqimx",
        "outputId": "e3493681-f195-4724-def3-86113ce61c11"
      },
      "execution_count": null,
      "outputs": [
        {
          "output_type": "stream",
          "name": "stdout",
          "text": [
            "Uppercase:\n",
            " ['PYTHON' 'NUMPY' 'PANDAS']\n"
          ]
        }
      ]
    },
    {
      "cell_type": "code",
      "source": [
        "# 6. Insert a space between each character of every word in the array.\n",
        "spaced_words = np.char.join(\" \", array_strings)\n",
        "print(\"Spaced Words:\\n\", spaced_words)\n"
      ],
      "metadata": {
        "colab": {
          "base_uri": "https://localhost:8080/"
        },
        "id": "buavp97fqpPp",
        "outputId": "9550d5d3-3db6-4fd0-da3a-8ffc7f8c77fe"
      },
      "execution_count": null,
      "outputs": [
        {
          "output_type": "stream",
          "name": "stdout",
          "text": [
            "Spaced Words:\n",
            " ['p y t h o n' 'n u m p y' 'p a n d a s']\n"
          ]
        }
      ]
    },
    {
      "cell_type": "code",
      "source": [
        "# 7. Perform element-wise operations on two 2D arrays.\n",
        "array_a = np.array([[1, 2], [3, 4]])\n",
        "array_b = np.array([[5, 6], [7, 8]])\n",
        "addition = array_a + array_b\n",
        "subtraction = array_a - array_b\n",
        "multiplication = array_a * array_b\n",
        "division = array_a / array_b\n",
        "print(\"Addition:\\n\", addition)\n",
        "print(\"Subtraction:\\n\", subtraction)\n",
        "print(\"Multiplication:\\n\", multiplication)\n",
        "print(\"Division:\\n\", division)"
      ],
      "metadata": {
        "colab": {
          "base_uri": "https://localhost:8080/"
        },
        "id": "Q9bl1P_Dqr4j",
        "outputId": "51151ea1-eb69-4274-f8e5-bb3236187e48"
      },
      "execution_count": null,
      "outputs": [
        {
          "output_type": "stream",
          "name": "stdout",
          "text": [
            "Addition:\n",
            " [[ 6  8]\n",
            " [10 12]]\n",
            "Subtraction:\n",
            " [[-4 -4]\n",
            " [-4 -4]]\n",
            "Multiplication:\n",
            " [[ 5 12]\n",
            " [21 32]]\n",
            "Division:\n",
            " [[0.2        0.33333333]\n",
            " [0.42857143 0.5       ]]\n"
          ]
        }
      ]
    },
    {
      "cell_type": "code",
      "source": [
        "# 7. Perform element-wise operations on two 2D arrays.\n",
        "array_a = np.array([[1, 2], [3, 4]])\n",
        "array_b = np.array([[5, 6], [7, 8]])\n",
        "addition = array_a + array_b\n",
        "subtraction = array_a - array_b\n",
        "multiplication = array_a * array_b\n",
        "division = array_a / array_b\n",
        "print(\"Addition:\\n\", addition)\n",
        "print(\"Subtraction:\\n\", subtraction)\n",
        "print(\"Multiplication:\\n\", multiplication)\n",
        "print(\"Division:\\n\", division)"
      ],
      "metadata": {
        "colab": {
          "base_uri": "https://localhost:8080/"
        },
        "id": "8oWpf4plqtgs",
        "outputId": "07e06e6b-3056-4568-fc6c-94af5104343b"
      },
      "execution_count": null,
      "outputs": [
        {
          "output_type": "stream",
          "name": "stdout",
          "text": [
            "Addition:\n",
            " [[ 6  8]\n",
            " [10 12]]\n",
            "Subtraction:\n",
            " [[-4 -4]\n",
            " [-4 -4]]\n",
            "Multiplication:\n",
            " [[ 5 12]\n",
            " [21 32]]\n",
            "Division:\n",
            " [[0.2        0.33333333]\n",
            " [0.42857143 0.5       ]]\n"
          ]
        }
      ]
    },
    {
      "cell_type": "code",
      "source": [
        "\n",
        "# 9. Generate an array of 100 random integers and find prime numbers.\n",
        "random_integers = np.random.randint(0, 1000, 100)\n",
        "def is_prime(n):\n",
        "    if n < 2:\n",
        "        return False\n",
        "    for i in range(2, int(np.sqrt(n)) + 1):\n",
        "        if n % i == 0:\n",
        "            return False\n",
        "    return True\n",
        "prime_numbers = np.array([num for num in random_integers if is_prime(num)])\n",
        "print(\"Prime Numbers:\\n\", prime_numbers)"
      ],
      "metadata": {
        "colab": {
          "base_uri": "https://localhost:8080/"
        },
        "id": "furW4_C4qvto",
        "outputId": "d4b42003-71f2-4567-bc02-f2ef67a26c61"
      },
      "execution_count": null,
      "outputs": [
        {
          "output_type": "stream",
          "name": "stdout",
          "text": [
            "Prime Numbers:\n",
            " [619 193  47 701 373 251 163 929 599 877 977 523  67 829  71 859 263]\n"
          ]
        }
      ]
    },
    {
      "cell_type": "code",
      "source": [
        "# 10. Create an array of daily temperatures for a month and calculate weekly averages.\n",
        "daily_temps = np.random.randint(15, 35, 30)\n",
        "weekly_avg = daily_temps.reshape(6, 5).mean(axis=1)\n",
        "print(\"Daily Temperatures:\\n\", daily_temps)\n",
        "print(\"Weekly Averages:\\n\", weekly_avg)"
      ],
      "metadata": {
        "colab": {
          "base_uri": "https://localhost:8080/"
        },
        "id": "JlHUIZSfqxuH",
        "outputId": "8a30b59f-834d-48bd-92ac-4c67c3bccc50"
      },
      "execution_count": null,
      "outputs": [
        {
          "output_type": "stream",
          "name": "stdout",
          "text": [
            "Daily Temperatures:\n",
            " [17 24 33 26 27 32 30 29 23 33 23 31 32 24 17 21 21 24 28 29 25 34 18 23\n",
            " 15 15 25 23 15 31]\n",
            "Weekly Averages:\n",
            " [25.4 29.4 25.4 24.6 23.  21.8]\n"
          ]
        }
      ]
    },
    {
      "cell_type": "code",
      "source": [],
      "metadata": {
        "id": "5qIWZGUeq6DS"
      },
      "execution_count": null,
      "outputs": []
    }
  ]
}